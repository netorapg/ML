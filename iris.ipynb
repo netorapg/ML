{
 "cells": [
  {
   "cell_type": "code",
   "execution_count": 18,
   "id": "9136a6b6",
   "metadata": {
    "vscode": {
     "languageId": "ruby"
    }
   },
   "outputs": [
    {
     "name": "stdout",
     "output_type": "stream",
     "text": [
      "Número de classes: 3\n",
      "Contagem por classe:\n",
      "class\n",
      "Iris-setosa        50\n",
      "Iris-versicolor    50\n",
      "Iris-virginica     50\n",
      "Name: count, dtype: int64\n",
      "Índice de Representatividade (IR) por classe:\n",
      "class\n",
      "Iris-setosa        33.333333\n",
      "Iris-versicolor    33.333333\n",
      "Iris-virginica     33.333333\n",
      "Name: count, dtype: float64\n"
     ]
    }
   ],
   "source": [
    "import pandas\n",
    "\n",
    "df = pandas.read_csv('iris.csv', header=None, names=['sepal_length', 'sepal_width', 'petal_length', 'petal_width', 'class'])\n",
    "\n",
    "\n",
    "num_classes = df['class'].nunique()\n",
    "print(f'Número de classes: {num_classes}')\n",
    "\n",
    "contagem_pandas = df['class'].value_counts()\n",
    "print('Contagem por classe:')\n",
    "print(contagem_pandas)\n",
    "\n",
    "ir = contagem_pandas / contagem_pandas.sum()\n",
    "print('Índice de Representatividade (IR) por classe:')\n",
    "print(ir*100)"
   ]
  },
  {
   "cell_type": "code",
   "execution_count": null,
   "id": "c0275521",
   "metadata": {},
   "outputs": [
    {
     "name": "stdout",
     "output_type": "stream",
     "text": [
      "Iris-versicolor: 50 (33.56%)\n",
      "Iris-virginica: 50 (33.56%)\n",
      "Iris-setosa: 49 (32.89%)\n"
     ]
    }
   ],
   "source": [
    "with open('iris.csv') as file:\n",
    "    tmp = file.readlines()\n",
    "\n",
    "#Contar quantas classes possui.\n",
    "classes = set()\n",
    "for line in tmp[1:]:\n",
    "    classe = line.strip().split(',')[-1]\n",
    "    classes.add(classe)\n",
    "#↳ Contar quantos registros cada classe.\n",
    "contagem_classe = {}\n",
    "for classe in classes:\n",
    "    contagem_classe[classe] = 0\n",
    "for line in tmp[1:]:\n",
    "    classe = line.strip().split(',')[-1]\n",
    "    contagem_classe[classe] += 1\n",
    "#↳ Calcular o desbalanceamento.\n",
    "total = sum(contagem_classe.values())\n",
    "for classe, contagem in contagem_classe.items():\n",
    "    print(f'{classe}: {contagem} ({(contagem / total) * 100:.2f}%)')\n",
    "#IR = ( contagem_classe / total )\n"
   ]
  }
 ],
 "metadata": {
  "kernelspec": {
   "display_name": "venv",
   "language": "python",
   "name": "python3"
  },
  "language_info": {
   "codemirror_mode": {
    "name": "ipython",
    "version": 3
   },
   "file_extension": ".py",
   "mimetype": "text/x-python",
   "name": "python",
   "nbconvert_exporter": "python",
   "pygments_lexer": "ipython3",
   "version": "3.13.3"
  }
 },
 "nbformat": 4,
 "nbformat_minor": 5
}
