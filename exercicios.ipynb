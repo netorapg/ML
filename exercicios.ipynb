{
 "cells": [
  {
   "cell_type": "code",
   "execution_count": null,
   "id": "ad526c1f",
   "metadata": {},
   "outputs": [],
   "source": [
    "#Exercício 1: Vogais"
   ]
  },
  {
   "cell_type": "code",
   "execution_count": 1,
   "id": "07beef67",
   "metadata": {},
   "outputs": [],
   "source": [
    "def contarAsVogais(texto):\n",
    "    vogais = \"aeiouAEIOU\"\n",
    "    contador = 0\n",
    "    vogaisEncontradas = []\n",
    "    for i, letra in enumerate(texto):\n",
    "        if letra in vogais:\n",
    "            contador += 1\n",
    "            vogaisEncontradas.append(f\"'{letra}' na posição {i}\")\n",
    "    return contador, vogaisEncontradas"
   ]
  },
  {
   "cell_type": "code",
   "execution_count": 2,
   "id": "ed6f7906",
   "metadata": {},
   "outputs": [
    {
     "name": "stdout",
     "output_type": "stream",
     "text": [
      "A frase 'Hoje o dia ta uma merda, acordei tarde pra cacete e to fazendo tudo na pressa' tem 30 vogais.\n",
      " - 'o' na posição 1\n",
      " - 'e' na posição 3\n",
      " - 'o' na posição 5\n",
      " - 'i' na posição 8\n",
      " - 'a' na posição 9\n",
      " - 'a' na posição 12\n",
      " - 'u' na posição 14\n",
      " - 'a' na posição 16\n",
      " - 'e' na posição 19\n",
      " - 'a' na posição 22\n",
      " - 'a' na posição 25\n",
      " - 'o' na posição 27\n",
      " - 'e' na posição 30\n",
      " - 'i' na posição 31\n",
      " - 'a' na posição 34\n",
      " - 'e' na posição 37\n",
      " - 'a' na posição 41\n",
      " - 'a' na posição 44\n",
      " - 'e' na posição 46\n",
      " - 'e' na posição 48\n",
      " - 'e' na posição 50\n",
      " - 'o' na posição 53\n",
      " - 'a' na posição 56\n",
      " - 'e' na posição 58\n",
      " - 'o' na posição 61\n",
      " - 'u' na posição 64\n",
      " - 'o' na posição 66\n",
      " - 'a' na posição 69\n",
      " - 'e' na posição 73\n",
      " - 'a' na posição 76\n"
     ]
    }
   ],
   "source": [
    "texto = input(\"Digite um texto: \")\n",
    "quantidadeVogais, detalhes = contarAsVogais(texto)\n",
    "\n",
    "print(f\"A frase '{texto}' tem {quantidadeVogais} vogais.\")\n",
    "for detalhe in detalhes:\n",
    "    print(f\" - {detalhe}\")\n"
   ]
  },
  {
   "cell_type": "code",
   "execution_count": null,
   "id": "498a3607",
   "metadata": {},
   "outputs": [],
   "source": [
    "#Exercício 2: Números Positivos e Negativos"
   ]
  },
  {
   "cell_type": "code",
   "execution_count": 2,
   "id": "71180e39",
   "metadata": {},
   "outputs": [],
   "source": [
    "def numerosPositivosNegativos():\n",
    "    lista_geral = []\n",
    "    \n",
    "    print(\"Digite números (positivos, negativos ou ambos).\")\n",
    "    print(\"Digite 0 para parar.\")\n",
    "    \n",
    "    while True:\n",
    "        try:\n",
    "            numero = float(input(\"Digite um número: \"))\n",
    "            \n",
    "            if numero == 0:\n",
    "                break\n",
    "            \n",
    "            lista_geral.append(numero)\n",
    "            \n",
    "        except ValueError:\n",
    "            print(\"Por favor, digite um número válido.\")\n",
    "    \n",
    "    if not lista_geral:\n",
    "        print(\"Nenhum número foi digitado.\")\n",
    "        return\n",
    "    \n",
    "    positivos = []\n",
    "    negativos = []\n",
    "    \n",
    "    somaPositivos = 0\n",
    "    somaNegativos = 0\n",
    "    \n",
    "    contagemPositivos = 0\n",
    "    contagemNegativos = 0\n",
    "    \n",
    "    for numero in lista_geral:\n",
    "        if numero > 0:\n",
    "            positivos.append(numero)\n",
    "            somaPositivos += numero\n",
    "            contagemPositivos += 1\n",
    "        elif numero < 0:\n",
    "            negativos.append(numero)\n",
    "            somaNegativos += numero\n",
    "            contagemNegativos += 1\n",
    "    \n",
    "    mediaPositivos = somaPositivos / contagemPositivos if contagemPositivos > 0 else 0\n",
    "    mediaNegativos = somaNegativos / contagemNegativos if contagemNegativos > 0 else 0\n",
    "    \n",
    "    print(\"\\n\" + \"=\"*50)\n",
    "    print(\"RESULTADOS:\")\n",
    "    print(\"=\"*50)\n",
    "    \n",
    "    print(f\"1. Lista geral: {lista_geral}\")\n",
    "    print(f\"2. Números positivos: {positivos}\")\n",
    "    print(f\"3. Números negativos: {negativos}\")\n",
    "    print(f\"4. Soma dos positivos: {somaPositivos}\")\n",
    "    print(f\"5. Soma dos negativos: {somaNegativos}\")\n",
    "    print(f\"6. Contagem de positivos: {contagemPositivos}\")\n",
    "    print(f\"7. Contagem de negativos: {contagemNegativos}\")\n",
    "    print(f\"8. Média dos positivos: {mediaPositivos:.2f}\")\n",
    "    print(f\"9. Média dos negativos: {mediaNegativos:.2f}\")"
   ]
  },
  {
   "cell_type": "code",
   "execution_count": 3,
   "id": "c222dca2",
   "metadata": {},
   "outputs": [
    {
     "name": "stdout",
     "output_type": "stream",
     "text": [
      "Digite números (positivos, negativos ou ambos).\n",
      "Digite 0 para parar.\n",
      "Por favor, digite um número válido.\n",
      "\n",
      "==================================================\n",
      "RESULTADOS:\n",
      "==================================================\n",
      "1. Lista geral: [23.0, 56.0, -9.0, -67.0, 45.0, -89.0]\n",
      "2. Números positivos: [23.0, 56.0, 45.0]\n",
      "3. Números negativos: [-9.0, -67.0, -89.0]\n",
      "4. Soma dos positivos: 124.0\n",
      "5. Soma dos negativos: -165.0\n",
      "6. Contagem de positivos: 3\n",
      "7. Contagem de negativos: 3\n",
      "8. Média dos positivos: 41.33\n",
      "9. Média dos negativos: -55.00\n"
     ]
    }
   ],
   "source": [
    "if __name__ == \"__main__\":\n",
    "    numerosPositivosNegativos()"
   ]
  },
  {
   "cell_type": "code",
   "execution_count": null,
   "id": "a76ed8d9",
   "metadata": {},
   "outputs": [],
   "source": [
    "#Exercício 3: Lanchonete"
   ]
  },
  {
   "cell_type": "code",
   "execution_count": 6,
   "id": "1f6dcd5f",
   "metadata": {},
   "outputs": [],
   "source": [
    "def lanchonete():\n",
    "    cardapio = {}\n",
    "    \n",
    "    \n",
    "    cardapio['x-burguer'] = 12.50\n",
    "    cardapio['x-salada'] = 15.00\n",
    "    cardapio['x-bacon'] = 18.90\n",
    "    cardapio['misto-quente'] = 8.50\n",
    "    cardapio['hamburguer'] = 10.00\n",
    "    \n",
    "    \n",
    "    cardapio['coca-cola'] = 5.00\n",
    "    cardapio['suco-laranja'] = 4.50\n",
    "    cardapio['agua'] = 2.00\n",
    "    \n",
    "    print('*'*50)\n",
    "    print(\"Bem-vindo à Lanchonete!\")\n",
    "    print(\"*\"*50)\n",
    "    \n",
    "    print(\"\\n Cardápio:\")\n",
    "    print(cardapio)\n",
    "    print(\"-\"*30)\n",
    "    \n",
    "    print(\"\\n FAÇA SEU PEDIDO:\")\n",
    "    print(\"Digite o nome exato do produto como aparece no cardápio\")\n",
    "    \n",
    "    while True:\n",
    "        lanche = input(\"\\nQual lanche deseja? \").lower().strip()\n",
    "        if lanche in cardapio:\n",
    "            preco_lanche = cardapio[lanche]\n",
    "            break\n",
    "        else:\n",
    "            print(\"Lanche não encontrado no cardápio. Tente novamente.\")\n",
    "            print(\"Lanches disponíveis:\", list(cardapio.keys())[:5])\n",
    "            \n",
    "    while True:\n",
    "        bebida = input(\"Qaul bebida você deseja? \").lower().strip()\n",
    "        if bebida in cardapio:\n",
    "            preco_bebida = cardapio[bebida]\n",
    "            break\n",
    "        else:\n",
    "            print(\"Bebida não encontrada no cardápio. Tente novamente.\")\n",
    "            print(\"Bebidas disponíveis:\", list(cardapio.keys())[5:])\n",
    "            \n",
    "    total = preco_lanche + preco_bebida\n",
    "    \n",
    "    print(\"\\n\" + \"=\"*40)\n",
    "    print(\"RESUMO DO PEDIDO:\")\n",
    "    print(\"=\"*40)\n",
    "    print(f\"Lanche: {lanche.title():<20} R$ {preco_lanche:.2f}\")\n",
    "    print(f\"Bebida: {bebida.title():<20} R$ {preco_bebida:.2f}\")\n",
    "    print(\"-\"*40)\n",
    "    print(f\"TOTAL A PAGAR: {'':<15} R$ {total:.2f}\")\n",
    "    print(\"=\"*40)\n",
    "    print(\"Obrigado pela preferência! Volte sempre!\")"
   ]
  },
  {
   "cell_type": "code",
   "execution_count": 7,
   "id": "c4ac38b1",
   "metadata": {},
   "outputs": [
    {
     "name": "stdout",
     "output_type": "stream",
     "text": [
      "**************************************************\n",
      "Bem-vindo à Lanchonete!\n",
      "**************************************************\n",
      "\n",
      " Cardápio:\n",
      "{'x-burguer': 12.5, 'x-salada': 15.0, 'x-bacon': 18.9, 'misto-quente': 8.5, 'hamburguer': 10.0, 'coca-cola': 5.0, 'suco-laranja': 4.5, 'agua': 2.0}\n",
      "------------------------------\n",
      "\n",
      " FAÇA SEU PEDIDO:\n",
      "Digite o nome exato do produto como aparece no cardápio\n",
      "Bebida não encontrada no cardápio. Tente novamente.\n",
      "Bebidas disponíveis: ['coca-cola', 'suco-laranja', 'agua']\n",
      "Bebida não encontrada no cardápio. Tente novamente.\n",
      "Bebidas disponíveis: ['coca-cola', 'suco-laranja', 'agua']\n",
      "Bebida não encontrada no cardápio. Tente novamente.\n",
      "Bebidas disponíveis: ['coca-cola', 'suco-laranja', 'agua']\n"
     ]
    },
    {
     "ename": "KeyboardInterrupt",
     "evalue": "Interrupted by user",
     "output_type": "error",
     "traceback": [
      "\u001b[31m---------------------------------------------------------------------------\u001b[39m",
      "\u001b[31mKeyboardInterrupt\u001b[39m                         Traceback (most recent call last)",
      "\u001b[36mCell\u001b[39m\u001b[36m \u001b[39m\u001b[32mIn[7]\u001b[39m\u001b[32m, line 2\u001b[39m\n\u001b[32m      1\u001b[39m \u001b[38;5;28;01mif\u001b[39;00m \u001b[34m__name__\u001b[39m == \u001b[33m\"\u001b[39m\u001b[33m__main__\u001b[39m\u001b[33m\"\u001b[39m:\n\u001b[32m----> \u001b[39m\u001b[32m2\u001b[39m     \u001b[43mlanchonete\u001b[49m\u001b[43m(\u001b[49m\u001b[43m)\u001b[49m\n",
      "\u001b[36mCell\u001b[39m\u001b[36m \u001b[39m\u001b[32mIn[6]\u001b[39m\u001b[32m, line 37\u001b[39m, in \u001b[36mlanchonete\u001b[39m\u001b[34m()\u001b[39m\n\u001b[32m     34\u001b[39m         \u001b[38;5;28mprint\u001b[39m(\u001b[33m\"\u001b[39m\u001b[33mLanches disponíveis:\u001b[39m\u001b[33m\"\u001b[39m, \u001b[38;5;28mlist\u001b[39m(cardapio.keys())[:\u001b[32m5\u001b[39m])\n\u001b[32m     36\u001b[39m \u001b[38;5;28;01mwhile\u001b[39;00m \u001b[38;5;28;01mTrue\u001b[39;00m:\n\u001b[32m---> \u001b[39m\u001b[32m37\u001b[39m     bebida = \u001b[38;5;28;43minput\u001b[39;49m\u001b[43m(\u001b[49m\u001b[33;43m\"\u001b[39;49m\u001b[33;43mQaul bebida você deseja? \u001b[39;49m\u001b[33;43m\"\u001b[39;49m\u001b[43m)\u001b[49m.lower().strip()\n\u001b[32m     38\u001b[39m     \u001b[38;5;28;01mif\u001b[39;00m bebida \u001b[38;5;129;01min\u001b[39;00m cardapio:\n\u001b[32m     39\u001b[39m         preco_bebida = cardapio[bebida]\n",
      "\u001b[36mFile \u001b[39m\u001b[32m~/projects/ML/venv/lib64/python3.13/site-packages/ipykernel/kernelbase.py:1282\u001b[39m, in \u001b[36mKernel.raw_input\u001b[39m\u001b[34m(self, prompt)\u001b[39m\n\u001b[32m   1280\u001b[39m     msg = \u001b[33m\"\u001b[39m\u001b[33mraw_input was called, but this frontend does not support input requests.\u001b[39m\u001b[33m\"\u001b[39m\n\u001b[32m   1281\u001b[39m     \u001b[38;5;28;01mraise\u001b[39;00m StdinNotImplementedError(msg)\n\u001b[32m-> \u001b[39m\u001b[32m1282\u001b[39m \u001b[38;5;28;01mreturn\u001b[39;00m \u001b[38;5;28;43mself\u001b[39;49m\u001b[43m.\u001b[49m\u001b[43m_input_request\u001b[49m\u001b[43m(\u001b[49m\n\u001b[32m   1283\u001b[39m \u001b[43m    \u001b[49m\u001b[38;5;28;43mstr\u001b[39;49m\u001b[43m(\u001b[49m\u001b[43mprompt\u001b[49m\u001b[43m)\u001b[49m\u001b[43m,\u001b[49m\n\u001b[32m   1284\u001b[39m \u001b[43m    \u001b[49m\u001b[38;5;28;43mself\u001b[39;49m\u001b[43m.\u001b[49m\u001b[43m_parent_ident\u001b[49m\u001b[43m[\u001b[49m\u001b[33;43m\"\u001b[39;49m\u001b[33;43mshell\u001b[39;49m\u001b[33;43m\"\u001b[39;49m\u001b[43m]\u001b[49m\u001b[43m,\u001b[49m\n\u001b[32m   1285\u001b[39m \u001b[43m    \u001b[49m\u001b[38;5;28;43mself\u001b[39;49m\u001b[43m.\u001b[49m\u001b[43mget_parent\u001b[49m\u001b[43m(\u001b[49m\u001b[33;43m\"\u001b[39;49m\u001b[33;43mshell\u001b[39;49m\u001b[33;43m\"\u001b[39;49m\u001b[43m)\u001b[49m\u001b[43m,\u001b[49m\n\u001b[32m   1286\u001b[39m \u001b[43m    \u001b[49m\u001b[43mpassword\u001b[49m\u001b[43m=\u001b[49m\u001b[38;5;28;43;01mFalse\u001b[39;49;00m\u001b[43m,\u001b[49m\n\u001b[32m   1287\u001b[39m \u001b[43m\u001b[49m\u001b[43m)\u001b[49m\n",
      "\u001b[36mFile \u001b[39m\u001b[32m~/projects/ML/venv/lib64/python3.13/site-packages/ipykernel/kernelbase.py:1325\u001b[39m, in \u001b[36mKernel._input_request\u001b[39m\u001b[34m(self, prompt, ident, parent, password)\u001b[39m\n\u001b[32m   1322\u001b[39m \u001b[38;5;28;01mexcept\u001b[39;00m \u001b[38;5;167;01mKeyboardInterrupt\u001b[39;00m:\n\u001b[32m   1323\u001b[39m     \u001b[38;5;66;03m# re-raise KeyboardInterrupt, to truncate traceback\u001b[39;00m\n\u001b[32m   1324\u001b[39m     msg = \u001b[33m\"\u001b[39m\u001b[33mInterrupted by user\u001b[39m\u001b[33m\"\u001b[39m\n\u001b[32m-> \u001b[39m\u001b[32m1325\u001b[39m     \u001b[38;5;28;01mraise\u001b[39;00m \u001b[38;5;167;01mKeyboardInterrupt\u001b[39;00m(msg) \u001b[38;5;28;01mfrom\u001b[39;00m\u001b[38;5;250m \u001b[39m\u001b[38;5;28;01mNone\u001b[39;00m\n\u001b[32m   1326\u001b[39m \u001b[38;5;28;01mexcept\u001b[39;00m \u001b[38;5;167;01mException\u001b[39;00m:\n\u001b[32m   1327\u001b[39m     \u001b[38;5;28mself\u001b[39m.log.warning(\u001b[33m\"\u001b[39m\u001b[33mInvalid Message:\u001b[39m\u001b[33m\"\u001b[39m, exc_info=\u001b[38;5;28;01mTrue\u001b[39;00m)\n",
      "\u001b[31mKeyboardInterrupt\u001b[39m: Interrupted by user"
     ]
    }
   ],
   "source": [
    "if __name__ == \"__main__\":\n",
    "    lanchonete()"
   ]
  }
 ],
 "metadata": {
  "kernelspec": {
   "display_name": "venv",
   "language": "python",
   "name": "python3"
  },
  "language_info": {
   "codemirror_mode": {
    "name": "ipython",
    "version": 3
   },
   "file_extension": ".py",
   "mimetype": "text/x-python",
   "name": "python",
   "nbconvert_exporter": "python",
   "pygments_lexer": "ipython3",
   "version": "3.13.3"
  }
 },
 "nbformat": 4,
 "nbformat_minor": 5
}
