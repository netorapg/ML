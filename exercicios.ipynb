{
 "cells": [
  {
   "cell_type": "code",
   "execution_count": null,
   "id": "ad526c1f",
   "metadata": {},
   "outputs": [],
   "source": [
    "#Exercício 1: Vogais"
   ]
  },
  {
   "cell_type": "code",
   "execution_count": 5,
   "id": "07beef67",
   "metadata": {},
   "outputs": [],
   "source": [
    "def contarAsVogais(texto):\n",
    "    vogais = \"aeiouAEIOU\"\n",
    "    contador = 0\n",
    "    vogaisEncontradas = []\n",
    "    for i, letra in enumerate(texto):\n",
    "        if letra in vogais:\n",
    "            contador += 1\n",
    "            vogaisEncontradas.append(f\"'{letra}' na posição {i}\")\n",
    "    return contador, vogaisEncontradas"
   ]
  },
  {
   "cell_type": "code",
   "execution_count": 6,
   "id": "ed6f7906",
   "metadata": {},
   "outputs": [
    {
     "name": "stdout",
     "output_type": "stream",
     "text": [
      "A frase 'Hoje o dia foi estranho' tem 10 vogais.\n",
      " - 'o' na posição 1\n",
      " - 'e' na posição 3\n",
      " - 'o' na posição 5\n",
      " - 'i' na posição 8\n",
      " - 'a' na posição 9\n",
      " - 'o' na posição 12\n",
      " - 'i' na posição 13\n",
      " - 'e' na posição 15\n",
      " - 'a' na posição 19\n",
      " - 'o' na posição 22\n"
     ]
    }
   ],
   "source": [
    "texto = input(\"Digite um texto: \")\n",
    "quantidadeVogais, detalhes = contarAsVogais(texto)\n",
    "\n",
    "print(f\"A frase '{texto}' tem {quantidadeVogais} vogais.\")\n",
    "for detalhe in detalhes:\n",
    "    print(f\" - {detalhe}\")\n"
   ]
  },
  {
   "cell_type": "code",
   "execution_count": null,
   "id": "498a3607",
   "metadata": {},
   "outputs": [],
   "source": [
    "#Exercício 2: Números Positivos e Negativos"
   ]
  },
  {
   "cell_type": "code",
   "execution_count": 7,
   "id": "71180e39",
   "metadata": {},
   "outputs": [],
   "source": [
    "def numerosPositivosNegativos():\n",
    "    lista_geral = []\n",
    "    \n",
    "    print(\"Digite números (positivos, negativos ou ambos).\")\n",
    "    print(\"Digite 0 para parar.\")\n",
    "    \n",
    "    while True:\n",
    "        try:\n",
    "            numero = float(input(\"Digite um número: \"))\n",
    "            \n",
    "            if numero == 0:\n",
    "                break\n",
    "            \n",
    "            lista_geral.append(numero)\n",
    "            \n",
    "        except ValueError:\n",
    "            print(\"Por favor, digite um número válido.\")\n",
    "    \n",
    "    if not lista_geral:\n",
    "        print(\"Nenhum número foi digitado.\")\n",
    "        return\n",
    "    \n",
    "    positivos = []\n",
    "    negativos = []\n",
    "    \n",
    "    somaPositivos = 0\n",
    "    somaNegativos = 0\n",
    "    \n",
    "    contagemPositivos = 0\n",
    "    contagemNegativos = 0\n",
    "    \n",
    "    for numero in lista_geral:\n",
    "        if numero > 0:\n",
    "            positivos.append(numero)\n",
    "            somaPositivos += numero\n",
    "            contagemPositivos += 1\n",
    "        elif numero < 0:\n",
    "            negativos.append(numero)\n",
    "            somaNegativos += numero\n",
    "            contagemNegativos += 1\n",
    "    \n",
    "    mediaPositivos = somaPositivos / contagemPositivos if contagemPositivos > 0 else 0\n",
    "    mediaNegativos = somaNegativos / contagemNegativos if contagemNegativos > 0 else 0\n",
    "    \n",
    "    print(\"\\n\" + \"=\"*50)\n",
    "    print(\"RESULTADOS:\")\n",
    "    print(\"=\"*50)\n",
    "    \n",
    "    print(f\"1. Lista geral: {lista_geral}\")\n",
    "    print(f\"2. Números positivos: {positivos}\")\n",
    "    print(f\"3. Números negativos: {negativos}\")\n",
    "    print(f\"4. Soma dos positivos: {somaPositivos}\")\n",
    "    print(f\"5. Soma dos negativos: {somaNegativos}\")\n",
    "    print(f\"6. Contagem de positivos: {contagemPositivos}\")\n",
    "    print(f\"7. Contagem de negativos: {contagemNegativos}\")\n",
    "    print(f\"8. Média dos positivos: {mediaPositivos:.2f}\")\n",
    "    print(f\"9. Média dos negativos: {mediaNegativos:.2f}\")"
   ]
  },
  {
   "cell_type": "code",
   "execution_count": 10,
   "id": "c222dca2",
   "metadata": {},
   "outputs": [
    {
     "name": "stdout",
     "output_type": "stream",
     "text": [
      "Digite números (positivos, negativos ou ambos).\n",
      "Digite 0 para parar.\n",
      "\n",
      "==================================================\n",
      "RESULTADOS:\n",
      "==================================================\n",
      "1. Lista geral: [5.0, -3.0, 8.0, -12.0, 15.0, -20.0, 34.0, -67.0]\n",
      "2. Números positivos: [5.0, 8.0, 15.0, 34.0]\n",
      "3. Números negativos: [-3.0, -12.0, -20.0, -67.0]\n",
      "4. Soma dos positivos: 62.0\n",
      "5. Soma dos negativos: -102.0\n",
      "6. Contagem de positivos: 4\n",
      "7. Contagem de negativos: 4\n",
      "8. Média dos positivos: 15.50\n",
      "9. Média dos negativos: -25.50\n"
     ]
    }
   ],
   "source": [
    "if __name__ == \"__main__\":\n",
    "    numerosPositivosNegativos()"
   ]
  },
  {
   "cell_type": "code",
   "execution_count": null,
   "id": "a76ed8d9",
   "metadata": {},
   "outputs": [],
   "source": [
    "#Exercício 3: Lanchonete"
   ]
  },
  {
   "cell_type": "code",
   "execution_count": 11,
   "id": "1f6dcd5f",
   "metadata": {},
   "outputs": [],
   "source": [
    "def lanchonete():\n",
    "    cardapio = {}\n",
    "    \n",
    "    \n",
    "    cardapio['x-burguer'] = 12.50\n",
    "    cardapio['x-salada'] = 15.00\n",
    "    cardapio['x-bacon'] = 18.90\n",
    "    cardapio['misto-quente'] = 8.50\n",
    "    cardapio['hamburguer'] = 10.00\n",
    "    \n",
    "    \n",
    "    cardapio['coca-cola'] = 5.00\n",
    "    cardapio['suco-laranja'] = 4.50\n",
    "    cardapio['agua'] = 2.00\n",
    "    \n",
    "    print('*'*50)\n",
    "    print(\"Bem-vindo à Lanchonete!\")\n",
    "    print(\"*\"*50)\n",
    "    \n",
    "    print(\"\\n Cardápio:\")\n",
    "    print(\"-\"*30)\n",
    "    \n",
    "    print(\"\\n FAÇA SEU PEDIDO:\")\n",
    "    print(\"Digite o nome exato do produto como aparece no cardápio\")\n",
    "    \n",
    "    while True:\n",
    "        lanche = input(\"\\nQual lanche deseja? \").lower().strip()\n",
    "        if lanche in cardapio:\n",
    "            preco_lanche = cardapio[lanche]\n",
    "            break\n",
    "        else:\n",
    "            print(\"Lanche não encontrado no cardápio. Tente novamente.\")\n",
    "            print(\"Lanches disponíveis:\", list(cardapio.keys())[:5])\n",
    "            \n",
    "    while True:\n",
    "        bebida = input(\"Qaul bebida você deseja? \").lower().strip()\n",
    "        if bebida in cardapio:\n",
    "            preco_bebida = cardapio[bebida]\n",
    "            break\n",
    "        else:\n",
    "            print(\"Bebida não encontrada no cardápio. Tente novamente.\")\n",
    "            print(\"Bebidas disponíveis:\", list(cardapio.keys())[5:])\n",
    "            \n",
    "    total = preco_lanche + preco_bebida\n",
    "    \n",
    "    print(\"\\n\" + \"=\"*40)\n",
    "    print(\"RESUMO DO PEDIDO:\")\n",
    "    print(\"=\"*40)\n",
    "    print(f\"Lanche: {lanche.title():<20} R$ {preco_lanche:.2f}\")\n",
    "    print(f\"Bebida: {bebida.title():<20} R$ {preco_bebida:.2f}\")\n",
    "    print(\"-\"*40)\n",
    "    print(f\"TOTAL A PAGAR: {'':<15} R$ {total:.2f}\")\n",
    "    print(\"=\"*40)\n",
    "    print(\"Obrigado pela preferência! Volte sempre!\")"
   ]
  },
  {
   "cell_type": "code",
   "execution_count": 12,
   "id": "c4ac38b1",
   "metadata": {},
   "outputs": [
    {
     "name": "stdout",
     "output_type": "stream",
     "text": [
      "**************************************************\n",
      "Bem-vindo à Lanchonete!\n",
      "**************************************************\n",
      "\n",
      " Cardápio:\n",
      "------------------------------\n",
      "\n",
      " FAÇA SEU PEDIDO:\n",
      "Digite o nome exato do produto como aparece no cardápio\n",
      "\n",
      "========================================\n",
      "RESUMO DO PEDIDO:\n",
      "========================================\n",
      "Lanche: X-Burguer            R$ 12.50\n",
      "Bebida: Agua                 R$ 2.00\n",
      "----------------------------------------\n",
      "TOTAL A PAGAR:                 R$ 14.50\n",
      "========================================\n",
      "Obrigado pela preferência! Volte sempre!\n"
     ]
    }
   ],
   "source": [
    "if __name__ == \"__main__\":\n",
    "    lanchonete()"
   ]
  }
 ],
 "metadata": {
  "kernelspec": {
   "display_name": "venv",
   "language": "python",
   "name": "python3"
  },
  "language_info": {
   "codemirror_mode": {
    "name": "ipython",
    "version": 3
   },
   "file_extension": ".py",
   "mimetype": "text/x-python",
   "name": "python",
   "nbconvert_exporter": "python",
   "pygments_lexer": "ipython3",
   "version": "3.13.3"
  }
 },
 "nbformat": 4,
 "nbformat_minor": 5
}
