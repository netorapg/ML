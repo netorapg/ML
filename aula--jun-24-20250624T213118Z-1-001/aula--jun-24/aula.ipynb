{
 "cells": [
  {
   "cell_type": "code",
   "execution_count": 1,
   "id": "2dc69695",
   "metadata": {},
   "outputs": [],
   "source": [
    "import pandas as pd\n",
    "import numpy as np\n",
    "from sklearn.preprocessing import LabelEncoder, StandardScaler\n",
    "from sklearn.model_selection import train_test_split"
   ]
  },
  {
   "cell_type": "code",
   "execution_count": 3,
   "id": "95665849",
   "metadata": {},
   "outputs": [],
   "source": [
    "def load_adult_dataset():\n",
    "    columns = ['age', 'workclass', 'fnlwgt', 'education', 'education-num',\n",
    "               'marital-status', 'occupation', 'relationship', 'race', 'sex',\n",
    "               'capital-gain', 'capital-loss', 'hours-per-week', 'native-country', 'income']\n",
    "    \n",
    "    # 0 -- carregar dataset adult\n",
    "    df = pd.read_csv('adult.data', names=columns, skipinitialspace=True)\n",
    "    \n",
    "    # 1 -- excluir linhas com dados faltantes\n",
    "    df = df.replace('?', np.nan)\n",
    "    df = df.dropna()\n",
    "    \n",
    "    # 2 -- transformar as strings em números\n",
    "    categorical_columns = ['workclass', 'education', 'marital-status', 'occupation',\n",
    "                          'relationship', 'race', 'sex', 'native-country']\n",
    "     \n",
    "    # Criar um LabelEncoder para cada coluna categórica\n",
    "    label_encoders = {}\n",
    "    for col in categorical_columns:\n",
    "        le = LabelEncoder()\n",
    "        df[col] = le.fit_transform(df[col])\n",
    "        label_encoders[col] = le  # Salvar para uso posterior se necessário\n",
    "\n",
    "    # 3 -- separar idade por faixa de valores\n",
    "    df['age_group'] = pd.cut(df['age'], bins=[0, 30, 50, 100], labels=['young', 'middle_aged', 'old'])\n",
    "    le_age = LabelEncoder()\n",
    "    df['age_group'] = le_age.fit_transform(df['age_group'])\n",
    "    \n",
    "    # Corrigir o target (>50K com K maiúsculo)\n",
    "    df['income'] = (df['income'] == '>50K').astype(int)\n",
    "    \n",
    "    return df"
   ]
  },
  {
   "cell_type": "code",
   "execution_count": null,
   "id": "5db7bec2",
   "metadata": {},
   "outputs": [],
   "source": [
    "# Carregar e visualizar os dados\n",
    "df = load_adult_dataset()\n",
    "print(f\"Shape do dataset: {df.shape}\")\n",
    "print(f\"Colunas: {df.columns.tolist()}\")\n",
    "print(f\"Distribuição do target:\")\n",
    "print(df['income'].value_counts())\n",
    "print(f\"\\nPrimeiras 5 linhas:\")\n",
    "print(df.head())"
   ]
  }
 ],
 "metadata": {
  "kernelspec": {
   "display_name": "venv",
   "language": "python",
   "name": "python3"
  },
  "language_info": {
   "codemirror_mode": {
    "name": "ipython",
    "version": 3
   },
   "file_extension": ".py",
   "mimetype": "text/x-python",
   "name": "python",
   "nbconvert_exporter": "python",
   "pygments_lexer": "ipython3",
   "version": "3.13.3"
  }
 },
 "nbformat": 4,
 "nbformat_minor": 5
}
