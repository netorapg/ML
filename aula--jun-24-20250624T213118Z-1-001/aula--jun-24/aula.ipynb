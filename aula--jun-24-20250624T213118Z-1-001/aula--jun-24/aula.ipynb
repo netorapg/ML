{
 "cells": [
  {
   "cell_type": "code",
   "execution_count": 6,
   "id": "2dc69695",
   "metadata": {},
   "outputs": [],
   "source": [
    "import pandas as pd\n",
    "import numpy as np\n",
    "from sklearn.preprocessing import LabelEncoder, StandardScaler\n",
    "from sklearn.model_selection import train_test_split"
   ]
  },
  {
   "cell_type": "code",
   "execution_count": 7,
   "id": "95665849",
   "metadata": {},
   "outputs": [],
   "source": [
    "def load_adult_dataset():\n",
    "    columns = ['age', 'workclass', 'fnlwgt', 'education', 'education-num',\n",
    "               'marital-status', 'occupation', 'relationship', 'race', 'sex',\n",
    "               'capital-gain', 'capital-loss', 'hours-per-week', 'native-country', 'income']\n",
    "    \n",
    "    # 0 -- carregar dataset adult\n",
    "    df = pd.read_csv('adult.data', names=columns, skipinitialspace=True)\n",
    "    \n",
    "    # 1 -- excluir linhas com dados faltantes\n",
    "    df = df.replace('?', np.nan)\n",
    "    df = df.dropna()\n",
    "    \n",
    "    # 2 -- transformar as strings em números\n",
    "    categorical_columns = ['workclass', 'education', 'marital-status', 'occupation',\n",
    "                          'relationship', 'race', 'sex', 'native-country']\n",
    "     \n",
    "    # Criar um LabelEncoder para cada coluna categórica\n",
    "    label_encoders = {}\n",
    "    for col in categorical_columns:\n",
    "        le = LabelEncoder()\n",
    "        df[col] = le.fit_transform(df[col])\n",
    "        label_encoders[col] = le  # Salvar para uso posterior se necessário\n",
    "\n",
    "    # 3 -- separar idade por faixa de valores\n",
    "    df['age_group'] = pd.cut(df['age'], bins=[0, 30, 50, 100], labels=['young', 'middle_aged', 'old'])\n",
    "    le_age = LabelEncoder()\n",
    "    df['age_group'] = le_age.fit_transform(df['age_group'])\n",
    "    \n",
    "    # Corrigir o target (>50K com K maiúsculo)\n",
    "    df['income'] = (df['income'] == '>50K').astype(int)\n",
    "    \n",
    "    return df"
   ]
  },
  {
   "cell_type": "code",
   "execution_count": 8,
   "id": "5db7bec2",
   "metadata": {},
   "outputs": [
    {
     "name": "stdout",
     "output_type": "stream",
     "text": [
      "Shape do dataset: (30162, 16)\n",
      "Colunas: ['age', 'workclass', 'fnlwgt', 'education', 'education-num', 'marital-status', 'occupation', 'relationship', 'race', 'sex', 'capital-gain', 'capital-loss', 'hours-per-week', 'native-country', 'income', 'age_group']\n",
      "Distribuição do target:\n",
      "income\n",
      "0    22654\n",
      "1     7508\n",
      "Name: count, dtype: int64\n",
      "\n",
      "Primeiras 5 linhas:\n",
      "   age  workclass  fnlwgt  education  education-num  marital-status  \\\n",
      "0   39          5   77516          9             13               4   \n",
      "1   50          4   83311          9             13               2   \n",
      "2   38          2  215646         11              9               0   \n",
      "3   53          2  234721          1              7               2   \n",
      "4   28          2  338409          9             13               2   \n",
      "\n",
      "   occupation  relationship  race  sex  capital-gain  capital-loss  \\\n",
      "0           0             1     4    1          2174             0   \n",
      "1           3             0     4    1             0             0   \n",
      "2           5             1     4    1             0             0   \n",
      "3           5             0     2    1             0             0   \n",
      "4           9             5     2    0             0             0   \n",
      "\n",
      "   hours-per-week  native-country  income  age_group  \n",
      "0              40              38       0          0  \n",
      "1              13              38       0          0  \n",
      "2              40              38       0          0  \n",
      "3              40              38       0          1  \n",
      "4              40               4       0          2  \n"
     ]
    }
   ],
   "source": [
    "# Carregar e visualizar os dados\n",
    "df = load_adult_dataset()\n",
    "print(f\"Shape do dataset: {df.shape}\")\n",
    "print(f\"Colunas: {df.columns.tolist()}\")\n",
    "print(f\"Distribuição do target:\")\n",
    "print(df['income'].value_counts())\n",
    "print(f\"\\nPrimeiras 5 linhas:\")\n",
    "print(df.head())"
   ]
  }
 ],
 "metadata": {
  "kernelspec": {
   "display_name": "ml",
   "language": "python",
   "name": "python3"
  },
  "language_info": {
   "codemirror_mode": {
    "name": "ipython",
    "version": 3
   },
   "file_extension": ".py",
   "mimetype": "text/x-python",
   "name": "python",
   "nbconvert_exporter": "python",
   "pygments_lexer": "ipython3",
   "version": "3.13.5"
  }
 },
 "nbformat": 4,
 "nbformat_minor": 5
}
