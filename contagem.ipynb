{
 "cells": [
  {
   "cell_type": "code",
   "execution_count": 23,
   "id": "ad6a43ac",
   "metadata": {},
   "outputs": [
    {
     "name": "stdout",
     "output_type": "stream",
     "text": [
      "resultado ==> [3, 4, 2]\n",
      "resultado ==> [2, 4, 2]\n"
     ]
    }
   ],
   "source": [
    "def conta_lista(lista):\n",
    "    result = [0, 0, 0]\n",
    "    for id in lista:\n",
    "        if id not in (1, 2, 3): continue\n",
    "        idx = id - 1\n",
    "        result[idx] = result[idx] + 1\n",
    "    print('resultado ==>', result)\n",
    "    \n",
    "conta_lista([1, 2, 3, 2, 1, 2, 3, 1, 2])\n",
    "conta_lista([1, 2, 3, 2, '1', 2, 3, 1, 2, 4, 4, 'mar', 'banana', 4, 'mar'])"
   ]
  },
  {
   "cell_type": "code",
   "execution_count": null,
   "id": "ce21689a",
   "metadata": {},
   "outputs": [
    {
     "name": "stdout",
     "output_type": "stream",
     "text": [
      "resultado atual: {1: 3, 2: 4, 3: 2}\n",
      "resultado atual: {1: 2, 2: 4, 3: 2}\n"
     ]
    }
   ],
   "source": [
    "def conta_dicionario(dicionario):\n",
    "    result = {1: 0, 2: 0, 3: 0}\n",
    "    for item in dicionario:\n",
    "            if item not in (1, 2, 3): continue\n",
    "            result[item] += 1\n",
    "    print('resultado atual:', result)\n",
    "\n",
    "conta_dicionario([1, 2, 3, 2, 1, 2, 3, 1, 2])\n",
    "conta_dicionario([1, 2, 3, 2, '1', 2, 3, 1, 2, 4, 4, 'mar', 'banana', 4, 'mar'])"
   ]
  },
  {
   "cell_type": "code",
   "execution_count": null,
   "id": "69891e40",
   "metadata": {},
   "outputs": [
    {
     "name": "stdout",
     "output_type": "stream",
     "text": [
      "result -> {1: 3, 2: 4, 3: 3}\n",
      "result -> {'mar': 2, 'maca': 1, 'banana': 1, 'aula': 2}\n",
      "result -> {1: 2, 2: 4, 3: 2, '1': 1, 4: 3, 'mar': 2, 'banana': 1}\n"
     ]
    }
   ],
   "source": [
    "lista = [1, 2, 3, 3, 2, 1, 2, 3, 1, 2]\n",
    "lista2 = [\"mar\", \"maca\", \"banana\", \"mar\", \"aula\", \"aula\"]\n",
    "lista3 = [1, 2, 3, 2, '1', 2, 3, 1, 2, 4, 4, 'mar', 'banana', 4, 'mar']\n",
    "\n",
    "def contar_lista(dicionario):\n",
    "    result_lista = {}\n",
    "    for item in dicionario:\n",
    "        if item not in result_lista:\n",
    "            result_lista[item] = 0\n",
    "        result_lista[item] += 1\n",
    "    print('result ->', result_lista)\n",
    "    \n",
    "contar_lista(lista)\n",
    "contar_lista(lista2)\n",
    "contar_lista(lista3)"
   ]
  }
 ],
 "metadata": {
  "kernelspec": {
   "display_name": "venv",
   "language": "python",
   "name": "python3"
  },
  "language_info": {
   "codemirror_mode": {
    "name": "ipython",
    "version": 3
   },
   "file_extension": ".py",
   "mimetype": "text/x-python",
   "name": "python",
   "nbconvert_exporter": "python",
   "pygments_lexer": "ipython3",
   "version": "3.13.3"
  }
 },
 "nbformat": 4,
 "nbformat_minor": 5
}
