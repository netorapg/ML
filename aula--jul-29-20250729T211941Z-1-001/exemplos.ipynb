{
 "cells": [
  {
   "cell_type": "code",
   "execution_count": 11,
   "id": "0a8fc8f7",
   "metadata": {},
   "outputs": [],
   "source": [
    "import random, numpy as np, pandas as pd"
   ]
  },
  {
   "cell_type": "code",
   "execution_count": null,
   "id": "8466c839",
   "metadata": {},
   "outputs": [
    {
     "name": "stdout",
     "output_type": "stream",
     "text": [
      "Original array: [10 20 30 40 50]\n",
      "Shuffled array: [20 50 40 10 30]\n"
     ]
    }
   ],
   "source": [
    "def test1():\n",
    "    myarr = [10, 20, 30, 40, 50]\n",
    "    arr_Id = np.array(myarr)\n",
    "    print(\"Original array:\", arr_Id)\n",
    "    np.random.shuffle(arr_Id)\n",
    "    print(\"Shuffled array:\", arr_Id)\n",
    "\n",
    "test1()"
   ]
  },
  {
   "cell_type": "code",
   "execution_count": 9,
   "id": "456ba86d",
   "metadata": {},
   "outputs": [
    {
     "name": "stdout",
     "output_type": "stream",
     "text": [
      "[0, 1, 2, 3, 4, 5, 6, 7, 8, 9]\n",
      "[8, 9, 3, 2, 0, 4, 7, 5, 1, 6]\n"
     ]
    }
   ],
   "source": [
    "def test2():\n",
    "    ll = list(range(0,10))\n",
    "    print(ll)\n",
    "    random.shuffle(ll)\n",
    "    print(ll)\n",
    "\n",
    "test2()"
   ]
  },
  {
   "cell_type": "code",
   "execution_count": 13,
   "id": "8475d18b",
   "metadata": {},
   "outputs": [
    {
     "name": "stdout",
     "output_type": "stream",
     "text": [
      "          0        1    2        3\n",
      "0    linha1   teste1  111   valor1\n",
      "1    linha2   teste2  222   valor2\n",
      "2    linha3   teste3  333   valor3\n",
      "3    linha4   teste4  444   valor4\n",
      "4    linha5   teste5  555   valor5\n",
      "5    linha6   teste6  666   valor6\n",
      "6    linha7   teste7  777   valor7\n",
      "7    linha8   teste8  888   valor8\n",
      "8    linha9   teste9  999   valor9\n",
      "9   linha10  teste10  123  valor10\n",
      "10  linha11  teste11  321  valor11\n",
      "11  linha12  teste12  456  valor12\n",
      "12  linha13  teste13  654  valor13\n",
      "13  linha14  teste14  789  valor14\n",
      "14  linha15  teste15  987  valor15\n",
      "15  linha16  teste16    0  valor16\n",
      "16  linha17  teste17  222  valor17\n",
      "17  linha18  teste18  333  valor18\n",
      "18  linha19  teste19  444  valor19\n",
      "19  linha20  teste20  555  valor20\n",
      "          0        1    2        3\n",
      "2    linha3   teste3  333   valor3\n",
      "16  linha17  teste17  222  valor17\n",
      "13  linha14  teste14  789  valor14\n",
      "18  linha19  teste19  444  valor19\n",
      "10  linha11  teste11  321  valor11\n",
      "7    linha8   teste8  888   valor8\n",
      "8    linha9   teste9  999   valor9\n",
      "17  linha18  teste18  333  valor18\n",
      "11  linha12  teste12  456  valor12\n",
      "15  linha16  teste16    0  valor16\n",
      "4    linha5   teste5  555   valor5\n",
      "6    linha7   teste7  777   valor7\n",
      "14  linha15  teste15  987  valor15\n",
      "0    linha1   teste1  111   valor1\n",
      "3    linha4   teste4  444   valor4\n",
      "5    linha6   teste6  666   valor6\n",
      "12  linha13  teste13  654  valor13\n",
      "9   linha10  teste10  123  valor10\n",
      "19  linha20  teste20  555  valor20\n",
      "1    linha2   teste2  222   valor2\n"
     ]
    }
   ],
   "source": [
    "def test_shuffle():\n",
    "    fname = \"aula--jul-29/aaa.csv\"\n",
    "    data = pd.read_csv(fname, header=None)\n",
    "    ll = list(range(len(data)))\n",
    "    random.shuffle(ll)\n",
    "    print(data)\n",
    "    print(data.iloc[ ll ])\n",
    "\n",
    "test_shuffle()"
   ]
  },
  {
   "cell_type": "code",
   "execution_count": 14,
   "id": "fb4c4174",
   "metadata": {},
   "outputs": [
    {
     "name": "stdout",
     "output_type": "stream",
     "text": [
      "[['linha1', 'teste1', 111, 'valor1'], ['linha2', 'teste2', 222, 'valor2'], ['linha3', 'teste3', 333, 'valor3'], ['linha4', 'teste4', 444, 'valor4'], ['linha5', 'teste5', 555, 'valor5'], ['linha6', 'teste6', 666, 'valor6'], ['linha7', 'teste7', 777, 'valor7'], ['linha8', 'teste8', 888, 'valor8'], ['linha9', 'teste9', 999, 'valor9'], ['linha10', 'teste10', 123, 'valor10'], ['linha11', 'teste11', 321, 'valor11'], ['linha12', 'teste12', 456, 'valor12'], ['linha13', 'teste13', 654, 'valor13'], ['linha14', 'teste14', 789, 'valor14'], ['linha15', 'teste15', 987, 'valor15'], ['linha16', 'teste16', 0, 'valor16'], ['linha17', 'teste17', 222, 'valor17'], ['linha18', 'teste18', 333, 'valor18'], ['linha19', 'teste19', 444, 'valor19'], ['linha20', 'teste20', 555, 'valor20']]\n"
     ]
    }
   ],
   "source": [
    "def test_shuffle_v2():\n",
    "    fname = 'aula--jul-29/aaa.csv'\n",
    "    data = pd.read_csv(fname, header=None)\n",
    "    ll = list(range(len(data)))\n",
    "    mydata = data.values.tolist()\n",
    "    print(mydata)\n",
    "\n",
    "test_shuffle_v2()"
   ]
  },
  {
   "cell_type": "code",
   "execution_count": 21,
   "id": "018f6b58",
   "metadata": {},
   "outputs": [
    {
     "name": "stdout",
     "output_type": "stream",
     "text": [
      "          0        1    2        3\n",
      "7    linha8   teste8  888   valor8\n",
      "15  linha16  teste16    0  valor16\n",
      "19  linha20  teste20  555  valor20\n"
     ]
    }
   ],
   "source": [
    "def test_mascara():\n",
    "    fname = 'aula--jul-29/aaa.csv'\n",
    "    data = pd.read_csv(fname, header=None)\n",
    "    mascara = [0,0,0,0,0,0,0,0,0,0,0,0,0,0,0,0,0,0,0,0]\n",
    "    mascara = np.array(mascara, dtype=bool)\n",
    "    \n",
    "    mascara[ [7,15,19] ] = True\n",
    "    \n",
    "    df = data[ mascara ]\n",
    "    print(df)\n",
    "\n",
    "test_mascara()"
   ]
  }
 ],
 "metadata": {
  "kernelspec": {
   "display_name": "ml",
   "language": "python",
   "name": "python3"
  },
  "language_info": {
   "codemirror_mode": {
    "name": "ipython",
    "version": 3
   },
   "file_extension": ".py",
   "mimetype": "text/x-python",
   "name": "python",
   "nbconvert_exporter": "python",
   "pygments_lexer": "ipython3",
   "version": "3.13.5"
  }
 },
 "nbformat": 4,
 "nbformat_minor": 5
}
