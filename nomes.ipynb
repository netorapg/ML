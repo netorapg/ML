{
 "cells": [
  {
   "cell_type": "code",
   "execution_count": 17,
   "id": "aeafdb1b",
   "metadata": {},
   "outputs": [
    {
     "name": "stdout",
     "output_type": "stream",
     "text": [
      "Contagem de nomes:\n",
      "Joseph: 20\n",
      "David: 22\n",
      "Holly: 22\n",
      "Eric: 25\n",
      "Richard: 35\n",
      "Jackie: 35\n",
      "Madison: 20\n",
      "Briana: 26\n",
      "Alexander: 27\n",
      "Ryan: 30\n",
      "Luis: 25\n",
      "Jesse: 28\n",
      "Thomas: 24\n",
      "Glenn: 31\n",
      "Janice: 24\n",
      "Michelle: 34\n",
      "Renato: 1\n",
      "Eugene: 20\n",
      "Alyssa: 27\n",
      "James: 28\n",
      "Nomes totais -> 28\n"
     ]
    }
   ],
   "source": [
    "import json\n",
    "def contagem_de_nomes_em_um_json(arquivo_json):\n",
    "    with open(arquivo_json, 'r') as file:\n",
    "        nomes_json = json.load(file)\n",
    "    nomes = nomes_json['nomes-pessoas']\n",
    "    contagem = {}\n",
    "    for item in nomes:\n",
    "        if item in contagem:\n",
    "            contagem[item] += 1\n",
    "        else:\n",
    "            contagem[item] = 1\n",
    "        \n",
    "    print(\"Contagem de nomes:\")\n",
    "    for nome, quantidade in contagem.items():\n",
    "        print(f\"{nome}: {quantidade}\")\n",
    "    print('Nomes totais ->', quantidade)\n",
    "        \n",
    "contagem_de_nomes_em_um_json('nomes.json')\n",
    "        \n",
    "    "
   ]
  }
 ],
 "metadata": {
  "kernelspec": {
   "display_name": "venv",
   "language": "python",
   "name": "python3"
  },
  "language_info": {
   "codemirror_mode": {
    "name": "ipython",
    "version": 3
   },
   "file_extension": ".py",
   "mimetype": "text/x-python",
   "name": "python",
   "nbconvert_exporter": "python",
   "pygments_lexer": "ipython3",
   "version": "3.13.3"
  }
 },
 "nbformat": 4,
 "nbformat_minor": 5
}
