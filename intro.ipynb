{
 "cells": [
  {
   "cell_type": "code",
   "execution_count": null,
   "id": "ee148884",
   "metadata": {},
   "outputs": [],
   "source": [
    "import numpy as np"
   ]
  },
  {
   "cell_type": "code",
   "execution_count": null,
   "id": "c06d5e78",
   "metadata": {},
   "outputs": [],
   "source": [
    "letras = 'abcdefghijklmnopqrstuvwxyz@#*+'\n"
   ]
  },
  {
   "cell_type": "code",
   "execution_count": null,
   "id": "6601f684",
   "metadata": {},
   "outputs": [],
   "source": [
    "lista = list(letras)\n",
    "print('len(lista):', len(lista))\n",
    "print(lista)\n"
   ]
  },
  {
   "cell_type": "code",
   "execution_count": null,
   "id": "97318ae7",
   "metadata": {},
   "outputs": [],
   "source": [
    "lista = np.array(lista)"
   ]
  },
  {
   "cell_type": "code",
   "execution_count": null,
   "id": "9f3306e6",
   "metadata": {},
   "outputs": [],
   "source": [
    "print('tamanho:', len(lista))\n",
    "print('shape:', lista.shape)\n",
    "print('ndim:', lista.ndim)\n",
    "print('lista:', lista)\n",
    "print('lista-reverso:', lista[::-1])"
   ]
  },
  {
   "cell_type": "code",
   "execution_count": null,
   "id": "ca345145",
   "metadata": {},
   "outputs": [],
   "source": [
    "print ('primeiros 10 elementos:', lista[:10])\n",
    "print ('ultimos 10 elementos:', lista[-10:])\n",
    "print ('21° elemento:', lista[20])\n",
    "print ('imprimir todos, menos os 5 ultimos:', lista[:-5])\n",
    "print ('imprimir todos os lementos do inicio até o meio:', lista[:len(lista)//2])\n",
    "print ('imprimir todos os elementos do meio até o final:', lista[len(lista)//2:])\n",
    "print ('imprimir todos os elementos do meio até o final, em ordem reversa:', lista[:len(lista)//2:-1])\n",
    "print ('imprimir todos os elementos a partir do 5, menos os 5 ultimos:', lista[5:-5])\n",
    "print ('imprimir o 12° elemento:', lista[11])\n",
    "\n"
   ]
  },
  {
   "cell_type": "code",
   "execution_count": null,
   "id": "a691bc6e",
   "metadata": {},
   "outputs": [],
   "source": [
    "for i in range(0, len(lista), 3):\n",
    "    print('i:', i)\n",
    "    print('lista:', lista[:i])\n",
    "    print('---')\n"
   ]
  },
  {
   "cell_type": "code",
   "execution_count": null,
   "id": "fd72fa0c",
   "metadata": {},
   "outputs": [],
   "source": [
    "\n",
    "for idx in range(10):\n",
    "    ii = idx * 3\n",
    "    print(lista[ii:ii+3])\n",
    "    print('indice:', ii)\n",
    "    print('---')\n"
   ]
  },
  {
   "cell_type": "code",
   "execution_count": null,
   "id": "81bd9fbe",
   "metadata": {},
   "outputs": [],
   "source": [
    "TAB = [\n",
    "    [1, 2, 3],\n",
    "    [4, 5, 6],\n",
    "    [7, 8, 9],\n",
    "]\n",
    "print(TAB)\n",
    "TAB = np.array(TAB)\n",
    "print(TAB)\n",
    "\n",
    "print('ndim -->', TAB.ndim)\n",
    "\n",
    "print('MOSTRANDO INDICE -->',TAB[1,1])\n",
    "\n",
    "print('ultima lista -->', TAB[-1])\n",
    "\n",
    "print('tabela invertida -->', TAB[::-1])\n",
    "\n",
    "print('coluna meio -->', TAB[:, 1])\n",
    "\n",
    "diag = np.diag(TAB)\n",
    "print('diagonal -->', diag)"
   ]
  },
  {
   "cell_type": "code",
   "execution_count": null,
   "id": "c18197cc",
   "metadata": {},
   "outputs": [
    {
     "name": "stdout",
     "output_type": "stream",
     "text": [
      "Tabela [['a' 'b' 'c' 'd' 'e' 'f' 'g' 'h' 'i' 'j']\n",
      " ['k' 'l' 'm' 'n' 'o' 'p' 'q' 'r' 's' 't']\n",
      " ['u' 'v' 'w' 'x' 'y' 'z' '@' '#' '*' '+']]\n",
      "Tabela Transposta\n",
      " [['a' 'k' 'u']\n",
      " ['b' 'l' 'v']\n",
      " ['c' 'm' 'w']\n",
      " ['d' 'n' 'x']\n",
      " ['e' 'o' 'y']\n",
      " ['f' 'p' 'z']\n",
      " ['g' 'q' '@']\n",
      " ['h' 'r' '#']\n",
      " ['i' 's' '*']\n",
      " ['j' 't' '+']]\n"
     ]
    }
   ],
   "source": [
    "# https://numpy.org/doc/2.2/reference/generated/numpy.transpose.html\n",
    "\n",
    "tabela = np.matrix([['a', 'b', 'c', 'd', 'e', 'f', 'g', 'h', 'i', 'j'],\n",
    "                     ['k', 'l', 'm', 'n', 'o', 'p', 'q', 'r', 's', 't'],\n",
    "                     ['u', 'v', 'w', 'x', 'y', 'z', '@', '#', '*', '+']])   \n",
    "\n",
    "tabela_t = np.transpose(tabela)\n",
    "print ('Tabela\\n', tabela)\n",
    "print ('Tabela Transposta\\n', tabela_t)"
   ]
  }
 ],
 "metadata": {
  "kernelspec": {
   "display_name": "venv",
   "language": "python",
   "name": "python3"
  },
  "language_info": {
   "codemirror_mode": {
    "name": "ipython",
    "version": 3
   },
   "file_extension": ".py",
   "mimetype": "text/x-python",
   "name": "python",
   "nbconvert_exporter": "python",
   "pygments_lexer": "ipython3",
   "version": "3.13.3"
  }
 },
 "nbformat": 4,
 "nbformat_minor": 5
}
