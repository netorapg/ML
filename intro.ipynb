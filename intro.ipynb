{
 "cells": [
  {
   "cell_type": "code",
   "execution_count": 1,
   "id": "ee148884",
   "metadata": {},
   "outputs": [],
   "source": [
    "import numpy as np"
   ]
  },
  {
   "cell_type": "code",
   "execution_count": 2,
   "id": "c06d5e78",
   "metadata": {},
   "outputs": [],
   "source": [
    "letras = 'abcdefghijklmnopqrstuvwxyz@#*+'\n"
   ]
  },
  {
   "cell_type": "code",
   "execution_count": 3,
   "id": "6601f684",
   "metadata": {},
   "outputs": [
    {
     "name": "stdout",
     "output_type": "stream",
     "text": [
      "len(lista): 30\n",
      "['a', 'b', 'c', 'd', 'e', 'f', 'g', 'h', 'i', 'j', 'k', 'l', 'm', 'n', 'o', 'p', 'q', 'r', 's', 't', 'u', 'v', 'w', 'x', 'y', 'z', '@', '#', '*', '+']\n"
     ]
    }
   ],
   "source": [
    "lista = list(letras)\n",
    "print('len(lista):', len(lista))\n",
    "print(lista)\n"
   ]
  },
  {
   "cell_type": "code",
   "execution_count": 4,
   "id": "97318ae7",
   "metadata": {},
   "outputs": [],
   "source": [
    "lista = np.array(lista)"
   ]
  },
  {
   "cell_type": "code",
   "execution_count": 5,
   "id": "9f3306e6",
   "metadata": {},
   "outputs": [
    {
     "name": "stdout",
     "output_type": "stream",
     "text": [
      "tamanho: 30\n",
      "shape: (30,)\n",
      "ndim: 1\n",
      "lista: ['a' 'b' 'c' 'd' 'e' 'f' 'g' 'h' 'i' 'j' 'k' 'l' 'm' 'n' 'o' 'p' 'q' 'r'\n",
      " 's' 't' 'u' 'v' 'w' 'x' 'y' 'z' '@' '#' '*' '+']\n",
      "lista-reverso: ['+' '*' '#' '@' 'z' 'y' 'x' 'w' 'v' 'u' 't' 's' 'r' 'q' 'p' 'o' 'n' 'm'\n",
      " 'l' 'k' 'j' 'i' 'h' 'g' 'f' 'e' 'd' 'c' 'b' 'a']\n"
     ]
    }
   ],
   "source": [
    "print('tamanho:', len(lista))\n",
    "print('shape:', lista.shape)\n",
    "print('ndim:', lista.ndim)\n",
    "print('lista:', lista)\n",
    "print('lista-reverso:', lista[::-1])"
   ]
  },
  {
   "cell_type": "code",
   "execution_count": 6,
   "id": "ca345145",
   "metadata": {},
   "outputs": [
    {
     "name": "stdout",
     "output_type": "stream",
     "text": [
      "primeiros 10 elementos: ['a' 'b' 'c' 'd' 'e' 'f' 'g' 'h' 'i' 'j']\n",
      "ultimos 10 elementos: ['u' 'v' 'w' 'x' 'y' 'z' '@' '#' '*' '+']\n",
      "21° elemento: u\n",
      "imprimir todos, menos os 5 ultimos: ['a' 'b' 'c' 'd' 'e' 'f' 'g' 'h' 'i' 'j' 'k' 'l' 'm' 'n' 'o' 'p' 'q' 'r'\n",
      " 's' 't' 'u' 'v' 'w' 'x' 'y']\n",
      "imprimir todos os lementos do inicio até o meio: ['a' 'b' 'c' 'd' 'e' 'f' 'g' 'h' 'i' 'j' 'k' 'l' 'm' 'n' 'o']\n",
      "imprimir todos os elementos do meio até o final: ['p' 'q' 'r' 's' 't' 'u' 'v' 'w' 'x' 'y' 'z' '@' '#' '*' '+']\n",
      "imprimir todos os elementos do meio até o final, em ordem reversa: ['+' '*' '#' '@' 'z' 'y' 'x' 'w' 'v' 'u' 't' 's' 'r' 'q']\n",
      "imprimir todos os elementos a partir do 5, menos os 5 ultimos: ['f' 'g' 'h' 'i' 'j' 'k' 'l' 'm' 'n' 'o' 'p' 'q' 'r' 's' 't' 'u' 'v' 'w'\n",
      " 'x' 'y']\n",
      "imprimir o 12° elemento: l\n"
     ]
    }
   ],
   "source": [
    "print ('primeiros 10 elementos:', lista[:10])\n",
    "print ('ultimos 10 elementos:', lista[-10:])\n",
    "print ('21° elemento:', lista[20])\n",
    "print ('imprimir todos, menos os 5 ultimos:', lista[:-5])\n",
    "print ('imprimir todos os lementos do inicio até o meio:', lista[:len(lista)//2])\n",
    "print ('imprimir todos os elementos do meio até o final:', lista[len(lista)//2:])\n",
    "print ('imprimir todos os elementos do meio até o final, em ordem reversa:', lista[:len(lista)//2:-1])\n",
    "print ('imprimir todos os elementos a partir do 5, menos os 5 ultimos:', lista[5:-5])\n",
    "print ('imprimir o 12° elemento:', lista[11])\n",
    "\n"
   ]
  },
  {
   "cell_type": "code",
   "execution_count": 7,
   "id": "a691bc6e",
   "metadata": {},
   "outputs": [
    {
     "name": "stdout",
     "output_type": "stream",
     "text": [
      "i: 0\n",
      "lista: []\n",
      "---\n",
      "i: 3\n",
      "lista: ['a' 'b' 'c']\n",
      "---\n",
      "i: 6\n",
      "lista: ['a' 'b' 'c' 'd' 'e' 'f']\n",
      "---\n",
      "i: 9\n",
      "lista: ['a' 'b' 'c' 'd' 'e' 'f' 'g' 'h' 'i']\n",
      "---\n",
      "i: 12\n",
      "lista: ['a' 'b' 'c' 'd' 'e' 'f' 'g' 'h' 'i' 'j' 'k' 'l']\n",
      "---\n",
      "i: 15\n",
      "lista: ['a' 'b' 'c' 'd' 'e' 'f' 'g' 'h' 'i' 'j' 'k' 'l' 'm' 'n' 'o']\n",
      "---\n",
      "i: 18\n",
      "lista: ['a' 'b' 'c' 'd' 'e' 'f' 'g' 'h' 'i' 'j' 'k' 'l' 'm' 'n' 'o' 'p' 'q' 'r']\n",
      "---\n",
      "i: 21\n",
      "lista: ['a' 'b' 'c' 'd' 'e' 'f' 'g' 'h' 'i' 'j' 'k' 'l' 'm' 'n' 'o' 'p' 'q' 'r'\n",
      " 's' 't' 'u']\n",
      "---\n",
      "i: 24\n",
      "lista: ['a' 'b' 'c' 'd' 'e' 'f' 'g' 'h' 'i' 'j' 'k' 'l' 'm' 'n' 'o' 'p' 'q' 'r'\n",
      " 's' 't' 'u' 'v' 'w' 'x']\n",
      "---\n",
      "i: 27\n",
      "lista: ['a' 'b' 'c' 'd' 'e' 'f' 'g' 'h' 'i' 'j' 'k' 'l' 'm' 'n' 'o' 'p' 'q' 'r'\n",
      " 's' 't' 'u' 'v' 'w' 'x' 'y' 'z' '@']\n",
      "---\n"
     ]
    }
   ],
   "source": [
    "for i in range(0, len(lista), 3):\n",
    "    print('i:', i)\n",
    "    print('lista:', lista[:i])\n",
    "    print('---')\n"
   ]
  },
  {
   "cell_type": "code",
   "execution_count": 8,
   "id": "fd72fa0c",
   "metadata": {},
   "outputs": [
    {
     "name": "stdout",
     "output_type": "stream",
     "text": [
      "['a' 'b' 'c']\n",
      "indice: 0\n",
      "---\n",
      "['d' 'e' 'f']\n",
      "indice: 3\n",
      "---\n",
      "['g' 'h' 'i']\n",
      "indice: 6\n",
      "---\n",
      "['j' 'k' 'l']\n",
      "indice: 9\n",
      "---\n",
      "['m' 'n' 'o']\n",
      "indice: 12\n",
      "---\n",
      "['p' 'q' 'r']\n",
      "indice: 15\n",
      "---\n",
      "['s' 't' 'u']\n",
      "indice: 18\n",
      "---\n",
      "['v' 'w' 'x']\n",
      "indice: 21\n",
      "---\n",
      "['y' 'z' '@']\n",
      "indice: 24\n",
      "---\n",
      "['#' '*' '+']\n",
      "indice: 27\n",
      "---\n"
     ]
    }
   ],
   "source": [
    "\n",
    "for idx in range(10):\n",
    "    ii = idx * 3\n",
    "    print(lista[ii:ii+3])\n",
    "    print('indice:', ii)\n",
    "    print('---')\n"
   ]
  },
  {
   "cell_type": "code",
   "execution_count": 9,
   "id": "81bd9fbe",
   "metadata": {},
   "outputs": [
    {
     "name": "stdout",
     "output_type": "stream",
     "text": [
      "[[1, 2, 3], [4, 5, 6], [7, 8, 9]]\n",
      "[[1 2 3]\n",
      " [4 5 6]\n",
      " [7 8 9]]\n",
      "ndim --> 2\n",
      "MOSTRANDO INDICE --> 5\n",
      "ultima lista --> [7 8 9]\n",
      "tabela invertida --> [[7 8 9]\n",
      " [4 5 6]\n",
      " [1 2 3]]\n",
      "coluna meio --> [2 5 8]\n",
      "diagonal --> [1 5 9]\n"
     ]
    }
   ],
   "source": [
    "TAB = [\n",
    "    [1, 2, 3],\n",
    "    [4, 5, 6],\n",
    "    [7, 8, 9],\n",
    "]\n",
    "print(TAB)\n",
    "TAB = np.array(TAB)\n",
    "print(TAB)\n",
    "\n",
    "print('ndim -->', TAB.ndim)\n",
    "\n",
    "print('MOSTRANDO INDICE -->',TAB[1,1])\n",
    "\n",
    "print('ultima lista -->', TAB[-1])\n",
    "\n",
    "print('tabela invertida -->', TAB[::-1])\n",
    "\n",
    "print('coluna meio -->', TAB[:, 1])\n",
    "\n",
    "diag = np.diag(TAB)\n",
    "print('diagonal -->', diag)"
   ]
  },
  {
   "cell_type": "code",
   "execution_count": 10,
   "id": "c18197cc",
   "metadata": {},
   "outputs": [
    {
     "name": "stdout",
     "output_type": "stream",
     "text": [
      "Tabela\n",
      " [['a' 'b' 'c' 'd' 'e' 'f' 'g' 'h' 'i' 'j']\n",
      " ['k' 'l' 'm' 'n' 'o' 'p' 'q' 'r' 's' 't']\n",
      " ['u' 'v' 'w' 'x' 'y' 'z' '@' '#' '*' '+']]\n",
      "Tabela Transposta\n",
      " [['a' 'k' 'u']\n",
      " ['b' 'l' 'v']\n",
      " ['c' 'm' 'w']\n",
      " ['d' 'n' 'x']\n",
      " ['e' 'o' 'y']\n",
      " ['f' 'p' 'z']\n",
      " ['g' 'q' '@']\n",
      " ['h' 'r' '#']\n",
      " ['i' 's' '*']\n",
      " ['j' 't' '+']]\n"
     ]
    }
   ],
   "source": [
    "# https://numpy.org/doc/2.2/reference/generated/numpy.transpose.html\n",
    "\n",
    "tabela = np.matrix([['a', 'b', 'c', 'd', 'e', 'f', 'g', 'h', 'i', 'j'],\n",
    "                     ['k', 'l', 'm', 'n', 'o', 'p', 'q', 'r', 's', 't'],\n",
    "                     ['u', 'v', 'w', 'x', 'y', 'z', '@', '#', '*', '+']])   \n",
    "\n",
    "tabela_t = np.transpose(tabela)\n",
    "print ('Tabela\\n', tabela)\n",
    "print ('Tabela Transposta\\n', tabela_t)"
   ]
  }
 ],
 "metadata": {
  "kernelspec": {
   "display_name": "venv",
   "language": "python",
   "name": "python3"
  },
  "language_info": {
   "codemirror_mode": {
    "name": "ipython",
    "version": 3
   },
   "file_extension": ".py",
   "mimetype": "text/x-python",
   "name": "python",
   "nbconvert_exporter": "python",
   "pygments_lexer": "ipython3",
   "version": "3.13.3"
  }
 },
 "nbformat": 4,
 "nbformat_minor": 5
}
