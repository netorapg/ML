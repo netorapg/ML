{
 "cells": [
  {
   "cell_type": "code",
   "execution_count": 13,
   "id": "450d3a26",
   "metadata": {},
   "outputs": [],
   "source": [
    "import pandas as pd"
   ]
  },
  {
   "cell_type": "code",
   "execution_count": 14,
   "id": "d24a70c4",
   "metadata": {},
   "outputs": [],
   "source": [
    "dados = pd.read_csv('dados.csv')\n",
    "distancia = dados['distancia']\n",
    "desceu = dados['desceu']\n",
    "classificacao = dados['classificacao']"
   ]
  },
  {
   "cell_type": "code",
   "execution_count": 15,
   "id": "d8049efa",
   "metadata": {},
   "outputs": [
    {
     "name": "stdout",
     "output_type": "stream",
     "text": [
      "Dataframe completo: \n",
      "    distancia  desceu  classificacao\n",
      "0        15.0     1.0              1\n",
      "1        14.0     0.8              1\n",
      "2        13.0     0.7              1\n",
      "3        15.5     1.0              1\n",
      "4        14.5     0.8              1\n",
      "5        15.0     1.1              1\n",
      "6        16.0     1.2              1\n",
      "7        13.0     0.8              1\n",
      "8        16.0     1.5              1\n",
      "9        15.0     0.9              1\n",
      "10       17.0     1.5              1\n",
      "11       16.0     1.3              1\n",
      "12       16.5     2.5              2\n",
      "13       15.5     2.2              2\n",
      "14       14.5     2.5              2\n",
      "15       17.0     2.3              2\n",
      "16       16.0     2.0              2\n",
      "17       16.5     2.0              2\n",
      "18       17.5     2.1              2\n",
      "19       14.5     1.9              2\n",
      "20       17.5     1.8              2\n",
      "21       16.5     1.8              2\n",
      "22       18.5     1.7              2\n",
      "23       17.5     1.8              2\n",
      "\n",
      "Distancia:\n",
      "0     15.0\n",
      "1     14.0\n",
      "2     13.0\n",
      "3     15.5\n",
      "4     14.5\n",
      "5     15.0\n",
      "6     16.0\n",
      "7     13.0\n",
      "8     16.0\n",
      "9     15.0\n",
      "10    17.0\n",
      "11    16.0\n",
      "12    16.5\n",
      "13    15.5\n",
      "14    14.5\n",
      "15    17.0\n",
      "16    16.0\n",
      "17    16.5\n",
      "18    17.5\n",
      "19    14.5\n",
      "20    17.5\n",
      "21    16.5\n",
      "22    18.5\n",
      "23    17.5\n",
      "Name: distancia, dtype: float64\n",
      "\n",
      "Desceu:\n",
      "0     1.0\n",
      "1     0.8\n",
      "2     0.7\n",
      "3     1.0\n",
      "4     0.8\n",
      "5     1.1\n",
      "6     1.2\n",
      "7     0.8\n",
      "8     1.5\n",
      "9     0.9\n",
      "10    1.5\n",
      "11    1.3\n",
      "12    2.5\n",
      "13    2.2\n",
      "14    2.5\n",
      "15    2.3\n",
      "16    2.0\n",
      "17    2.0\n",
      "18    2.1\n",
      "19    1.9\n",
      "20    1.8\n",
      "21    1.8\n",
      "22    1.7\n",
      "23    1.8\n",
      "Name: desceu, dtype: float64\n",
      "\n",
      "Classificacao:\n",
      "0     1\n",
      "1     1\n",
      "2     1\n",
      "3     1\n",
      "4     1\n",
      "5     1\n",
      "6     1\n",
      "7     1\n",
      "8     1\n",
      "9     1\n",
      "10    1\n",
      "11    1\n",
      "12    2\n",
      "13    2\n",
      "14    2\n",
      "15    2\n",
      "16    2\n",
      "17    2\n",
      "18    2\n",
      "19    2\n",
      "20    2\n",
      "21    2\n",
      "22    2\n",
      "23    2\n",
      "Name: classificacao, dtype: int64\n"
     ]
    }
   ],
   "source": [
    "print(\"Dataframe completo: \")\n",
    "print(dados)\n",
    "print(\"\\nDistancia:\")\n",
    "print(distancia)\n",
    "print(\"\\nDesceu:\")\n",
    "print(desceu)\n",
    "print(\"\\nClassificacao:\")\n",
    "print(classificacao)"
   ]
  },
  {
   "cell_type": "code",
   "execution_count": 16,
   "id": "456f8258",
   "metadata": {},
   "outputs": [],
   "source": [
    "ultima_linha = dados.iloc[-1]"
   ]
  },
  {
   "cell_type": "code",
   "execution_count": 17,
   "id": "61ee66f6",
   "metadata": {},
   "outputs": [
    {
     "name": "stdout",
     "output_type": "stream",
     "text": [
      "\n",
      "Ultima linha do arquivo:\n",
      "distancia        17.5\n",
      "desceu            1.8\n",
      "classificacao     2.0\n",
      "Name: 23, dtype: float64\n"
     ]
    }
   ],
   "source": [
    "print(\"\\nUltima linha do arquivo:\")\n",
    "print(ultima_linha)"
   ]
  },
  {
   "cell_type": "code",
   "execution_count": 18,
   "id": "06032196",
   "metadata": {},
   "outputs": [],
   "source": [
    "contagem_joao = (classificacao == 1).sum()\n",
    "contagem_maria = (classificacao == 2).sum()"
   ]
  },
  {
   "cell_type": "code",
   "execution_count": 19,
   "id": "8cf5a28b",
   "metadata": {},
   "outputs": [],
   "source": [
    "maior_distancia_joao = distancia[classificacao == 1].max()\n",
    "maior_desceu_maria = desceu[classificacao == 2].max()"
   ]
  },
  {
   "cell_type": "code",
   "execution_count": 20,
   "id": "53335a70",
   "metadata": {},
   "outputs": [
    {
     "name": "stdout",
     "output_type": "stream",
     "text": [
      "\n",
      "=== Resultados ===\n",
      "Total de linhas de João (classificação 1): 12\n",
      "Total de linhas de Maria (classificação 2): 12\n",
      "Maior distância de João: 17.0\n",
      "Maior valor que Maria desceu: 2.5\n"
     ]
    }
   ],
   "source": [
    "print(\"\\n=== Resultados ===\")\n",
    "print(f\"Total de linhas de João (classificação 1): {contagem_joao}\")\n",
    "print(f\"Total de linhas de Maria (classificação 2): {contagem_maria}\")\n",
    "print(f\"Maior distância de João: {maior_distancia_joao}\")\n",
    "print(f\"Maior valor que Maria desceu: {maior_desceu_maria}\")"
   ]
  }
 ],
 "metadata": {
  "kernelspec": {
   "display_name": "venv",
   "language": "python",
   "name": "python3"
  },
  "language_info": {
   "codemirror_mode": {
    "name": "ipython",
    "version": 3
   },
   "file_extension": ".py",
   "mimetype": "text/x-python",
   "name": "python",
   "nbconvert_exporter": "python",
   "pygments_lexer": "ipython3",
   "version": "3.13.3"
  }
 },
 "nbformat": 4,
 "nbformat_minor": 5
}
