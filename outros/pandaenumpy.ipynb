{
 "cells": [
  {
   "cell_type": "code",
   "execution_count": 1,
   "metadata": {},
   "outputs": [],
   "source": [
    "import pandas as pd \n",
    "import numpy as np"
   ]
  },
  {
   "cell_type": "code",
   "execution_count": null,
   "id": "f56d2237",
   "metadata": {},
   "outputs": [
    {
     "name": "stdout",
     "output_type": "stream",
     "text": [
      "colunas: Index(['5.1', '3.5', '1.4', '0.2', 'Iris-setosa'], dtype='object')\n",
      "Ultima coluna: Iris-setosa\n",
      "     5.1  3.5  1.4  0.2\n",
      "0    4.9  3.0  1.4  0.2\n",
      "1    4.7  3.2  1.3  0.2\n",
      "2    4.6  3.1  1.5  0.2\n",
      "3    5.0  3.6  1.4  0.2\n",
      "4    5.4  3.9  1.7  0.4\n",
      "..   ...  ...  ...  ...\n",
      "144  6.7  3.0  5.2  2.3\n",
      "145  6.3  2.5  5.0  1.9\n",
      "146  6.5  3.0  5.2  2.0\n",
      "147  6.2  3.4  5.4  2.3\n",
      "148  5.9  3.0  5.1  1.8\n",
      "\n",
      "[149 rows x 4 columns]\n",
      "Ultima coluna: Iris-setosa\n",
      "----------------------------------------\n"
     ]
    }
   ],
   "source": [
    "def data_set(fname):\n",
    "    result = {}\n",
    "    result['fname'] = fname\n",
    "    data = pd.read_csv(fname)\n",
    "    cols = data.columns\n",
    "    ultima = cols[-1]\n",
    "    \n",
    "    print('colunas:', cols)\n",
    "    print('Ultima coluna:', ultima)\n",
    "    classes = data[ultima]\n",
    "    df = data.drop(columns=ultima)\n",
    "    print(df)\n",
    "    print('Ultima coluna:', ultima)\n",
    "    return result\n",
    "\n",
    "FNAME = 'iris.csv'\n",
    "if __name__ == '__main__':\n",
    "    data = data_set(FNAME)\n",
    "    #print(data)\n",
    "    print('-'*40)\n",
    "   # print('fname -->', data['fname'])"
   ]
  }
 ],
 "metadata": {
  "kernelspec": {
   "display_name": "venv",
   "language": "python",
   "name": "python3"
  },
  "language_info": {
   "codemirror_mode": {
    "name": "ipython",
    "version": 3
   },
   "file_extension": ".py",
   "mimetype": "text/x-python",
   "name": "python",
   "nbconvert_exporter": "python",
   "pygments_lexer": "ipython3",
   "version": "3.13.3"
  }
 },
 "nbformat": 4,
 "nbformat_minor": 5
}
